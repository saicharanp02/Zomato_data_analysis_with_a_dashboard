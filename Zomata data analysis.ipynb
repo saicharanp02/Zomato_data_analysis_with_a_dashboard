{
 "cells": [
  {
   "cell_type": "code",
   "execution_count": 1,
   "metadata": {},
   "outputs": [],
   "source": [
    "# Import Libaries\n",
    "import pandas as pd\n",
    "import numpy as np"
   ]
  },
  {
   "cell_type": "code",
   "execution_count": 2,
   "metadata": {},
   "outputs": [
    {
     "name": "stdout",
     "output_type": "stream",
     "text": [
      "      Restaurant ID           Restaurant Name  Country Code              City  \\\n",
      "0           6317637          Le Petit Souffle           162       Makati City   \n",
      "1           6304287          Izakaya Kikufuji           162       Makati City   \n",
      "2           6300002    Heat - Edsa Shangri-La           162  Mandaluyong City   \n",
      "3           6318506                      Ooma           162  Mandaluyong City   \n",
      "4           6314302               Sambo Kojin           162  Mandaluyong City   \n",
      "...             ...                       ...           ...               ...   \n",
      "9546        5915730              NamlÛ± Gurme           208         ÛÁstanbul   \n",
      "9547        5908749             Ceviz AÛôacÛ±           208         ÛÁstanbul   \n",
      "9548        5915807                     Huqqa           208         ÛÁstanbul   \n",
      "9549        5916112              Aôôk Kahve           208         ÛÁstanbul   \n",
      "9550        5927402  Walter's Coffee Roastery           208         ÛÁstanbul   \n",
      "\n",
      "                                                Address  \\\n",
      "0     Third Floor, Century City Mall, Kalayaan Avenu...   \n",
      "1     Little Tokyo, 2277 Chino Roces Avenue, Legaspi...   \n",
      "2     Edsa Shangri-La, 1 Garden Way, Ortigas, Mandal...   \n",
      "3     Third Floor, Mega Fashion Hall, SM Megamall, O...   \n",
      "4     Third Floor, Mega Atrium, SM Megamall, Ortigas...   \n",
      "...                                                 ...   \n",
      "9546  Kemankeô Karamustafa Paôa Mahallesi, RÛ±htÛ±...   \n",
      "9547  Koôuyolu Mahallesi, Muhittin íìstí_ndaÛô Cadd...   \n",
      "9548  Kuruí_eôme Mahallesi, Muallim Naci Caddesi, N...   \n",
      "9549  Kuruí_eôme Mahallesi, Muallim Naci Caddesi, N...   \n",
      "9550  CafeaÛôa Mahallesi, BademaltÛ± Sokak, No 21/B,...   \n",
      "\n",
      "                                        Locality  \\\n",
      "0      Century City Mall, Poblacion, Makati City   \n",
      "1     Little Tokyo, Legaspi Village, Makati City   \n",
      "2     Edsa Shangri-La, Ortigas, Mandaluyong City   \n",
      "3         SM Megamall, Ortigas, Mandaluyong City   \n",
      "4         SM Megamall, Ortigas, Mandaluyong City   \n",
      "...                                          ...   \n",
      "9546                                    Karakí_y   \n",
      "9547                                   Koôuyolu   \n",
      "9548                                 Kuruí_eôme   \n",
      "9549                                 Kuruí_eôme   \n",
      "9550                                        Moda   \n",
      "\n",
      "                                       Locality Verbose   Longitude  \\\n",
      "0     Century City Mall, Poblacion, Makati City, Mak...  121.027535   \n",
      "1     Little Tokyo, Legaspi Village, Makati City, Ma...  121.014101   \n",
      "2     Edsa Shangri-La, Ortigas, Mandaluyong City, Ma...  121.056831   \n",
      "3     SM Megamall, Ortigas, Mandaluyong City, Mandal...  121.056475   \n",
      "4     SM Megamall, Ortigas, Mandaluyong City, Mandal...  121.057508   \n",
      "...                                                 ...         ...   \n",
      "9546                                Karakí_y, ÛÁstanbul   28.977392   \n",
      "9547                               Koôuyolu, ÛÁstanbul   29.041297   \n",
      "9548                             Kuruí_eôme, ÛÁstanbul   29.034640   \n",
      "9549                             Kuruí_eôme, ÛÁstanbul   29.036019   \n",
      "9550                                    Moda, ÛÁstanbul   29.026016   \n",
      "\n",
      "       Latitude                          Cuisines  ...          Currency  \\\n",
      "0     14.565443        French, Japanese, Desserts  ...  Botswana Pula(P)   \n",
      "1     14.553708                          Japanese  ...  Botswana Pula(P)   \n",
      "2     14.581404  Seafood, Asian, Filipino, Indian  ...  Botswana Pula(P)   \n",
      "3     14.585318                   Japanese, Sushi  ...  Botswana Pula(P)   \n",
      "4     14.584450                  Japanese, Korean  ...  Botswana Pula(P)   \n",
      "...         ...                               ...  ...               ...   \n",
      "9546  41.022793                           Turkish  ...  Turkish Lira(TL)   \n",
      "9547  41.009847   World Cuisine, Patisserie, Cafe  ...  Turkish Lira(TL)   \n",
      "9548  41.055817            Italian, World Cuisine  ...  Turkish Lira(TL)   \n",
      "9549  41.057979                   Restaurant Cafe  ...  Turkish Lira(TL)   \n",
      "9550  40.984776                              Cafe  ...  Turkish Lira(TL)   \n",
      "\n",
      "     Has Table booking Has Online delivery Is delivering now  \\\n",
      "0                  Yes                  No                No   \n",
      "1                  Yes                  No                No   \n",
      "2                  Yes                  No                No   \n",
      "3                   No                  No                No   \n",
      "4                  Yes                  No                No   \n",
      "...                ...                 ...               ...   \n",
      "9546                No                  No                No   \n",
      "9547                No                  No                No   \n",
      "9548                No                  No                No   \n",
      "9549                No                  No                No   \n",
      "9550                No                  No                No   \n",
      "\n",
      "     Switch to order menu Price range  Aggregate rating  Rating color  \\\n",
      "0                      No           3               4.8    Dark Green   \n",
      "1                      No           3               4.5    Dark Green   \n",
      "2                      No           4               4.4         Green   \n",
      "3                      No           4               4.9    Dark Green   \n",
      "4                      No           4               4.8    Dark Green   \n",
      "...                   ...         ...               ...           ...   \n",
      "9546                   No           3               4.1         Green   \n",
      "9547                   No           3               4.2         Green   \n",
      "9548                   No           4               3.7        Yellow   \n",
      "9549                   No           4               4.0         Green   \n",
      "9550                   No           2               4.0         Green   \n",
      "\n",
      "     Rating text Votes  \n",
      "0      Excellent   314  \n",
      "1      Excellent   591  \n",
      "2      Very Good   270  \n",
      "3      Excellent   365  \n",
      "4      Excellent   229  \n",
      "...          ...   ...  \n",
      "9546   Very Good   788  \n",
      "9547   Very Good  1034  \n",
      "9548        Good   661  \n",
      "9549   Very Good   901  \n",
      "9550   Very Good   591  \n",
      "\n",
      "[9551 rows x 21 columns]\n"
     ]
    }
   ],
   "source": [
    "df_data = pd.read_csv(r\"C:\\Users\\SAI CHARAN\\OneDrive\\Desktop\\Zomato analysis dashboard\\Zamoto raw data\\zomato.csv\", encoding='unicode_escape')\n",
    "print(df_data)"
   ]
  },
  {
   "cell_type": "code",
   "execution_count": 3,
   "metadata": {},
   "outputs": [
    {
     "name": "stdout",
     "output_type": "stream",
     "text": [
      "    Country Code         Country\n",
      "0              1           India\n",
      "1             14       Australia\n",
      "2             30          Brazil\n",
      "3             37          Canada\n",
      "4             94       Indonesia\n",
      "5            148     New Zealand\n",
      "6            162     Phillipines\n",
      "7            166           Qatar\n",
      "8            184       Singapore\n",
      "9            189    South Africa\n",
      "10           191       Sri Lanka\n",
      "11           208          Turkey\n",
      "12           214             UAE\n",
      "13           215  United Kingdom\n",
      "14           216   United States\n"
     ]
    }
   ],
   "source": [
    "# Loading excel file of country code using pandas\n",
    "\n",
    "df_country = pd.read_excel(r\"C:\\Users\\SAI CHARAN\\OneDrive\\Desktop\\Zomato analysis dashboard\\Zamoto raw data\\Country-Code.xlsx\")\n",
    "print(df_country)"
   ]
  },
  {
   "cell_type": "code",
   "execution_count": 4,
   "metadata": {},
   "outputs": [
    {
     "name": "stdout",
     "output_type": "stream",
     "text": [
      "<class 'pandas.core.frame.DataFrame'>\n",
      "RangeIndex: 9551 entries, 0 to 9550\n",
      "Data columns (total 21 columns):\n",
      " #   Column                Non-Null Count  Dtype  \n",
      "---  ------                --------------  -----  \n",
      " 0   Restaurant ID         9551 non-null   int64  \n",
      " 1   Restaurant Name       9551 non-null   object \n",
      " 2   Country Code          9551 non-null   int64  \n",
      " 3   City                  9551 non-null   object \n",
      " 4   Address               9551 non-null   object \n",
      " 5   Locality              9551 non-null   object \n",
      " 6   Locality Verbose      9551 non-null   object \n",
      " 7   Longitude             9551 non-null   float64\n",
      " 8   Latitude              9551 non-null   float64\n",
      " 9   Cuisines              9542 non-null   object \n",
      " 10  Average Cost for two  9551 non-null   int64  \n",
      " 11  Currency              9551 non-null   object \n",
      " 12  Has Table booking     9551 non-null   object \n",
      " 13  Has Online delivery   9551 non-null   object \n",
      " 14  Is delivering now     9551 non-null   object \n",
      " 15  Switch to order menu  9551 non-null   object \n",
      " 16  Price range           9551 non-null   int64  \n",
      " 17  Aggregate rating      9551 non-null   float64\n",
      " 18  Rating color          9551 non-null   object \n",
      " 19  Rating text           9551 non-null   object \n",
      " 20  Votes                 9551 non-null   int64  \n",
      "dtypes: float64(3), int64(5), object(13)\n",
      "memory usage: 1.5+ MB\n"
     ]
    }
   ],
   "source": [
    "# Data Cleaning (Zamaoto data)\n",
    "#check the datatype\n",
    "df_data.info()\n"
   ]
  },
  {
   "cell_type": "code",
   "execution_count": 5,
   "metadata": {},
   "outputs": [
    {
     "name": "stdout",
     "output_type": "stream",
     "text": [
      "Restaurant ID           0\n",
      "Restaurant Name         0\n",
      "Country Code            0\n",
      "City                    0\n",
      "Address                 0\n",
      "Locality                0\n",
      "Locality Verbose        0\n",
      "Longitude               0\n",
      "Latitude                0\n",
      "Cuisines                9\n",
      "Average Cost for two    0\n",
      "Currency                0\n",
      "Has Table booking       0\n",
      "Has Online delivery     0\n",
      "Is delivering now       0\n",
      "Switch to order menu    0\n",
      "Price range             0\n",
      "Aggregate rating        0\n",
      "Rating color            0\n",
      "Rating text             0\n",
      "Votes                   0\n",
      "dtype: int64\n"
     ]
    }
   ],
   "source": [
    "# Check the Null Values\n",
    "print(df_data.isnull().sum())"
   ]
  },
  {
   "cell_type": "code",
   "execution_count": 6,
   "metadata": {},
   "outputs": [
    {
     "name": "stdout",
     "output_type": "stream",
     "text": [
      "   Restaurant ID                           Restaurant Name  Country Code  \\\n",
      "0        6317637                          Le Petit Souffle           162   \n",
      "1        6304287                          Izakaya Kikufuji           162   \n",
      "2        6300002                    Heat - Edsa Shangri-La           162   \n",
      "3        6318506                                      Ooma           162   \n",
      "4        6314302                               Sambo Kojin           162   \n",
      "5       18189371                              Din Tai Fung           162   \n",
      "6        6300781                                Buffet 101           162   \n",
      "7        6301290                                   Vikings           162   \n",
      "8        6300010  Spiral - Sofitel Philippine Plaza Manila           162   \n",
      "9        6314987                                  Locavore           162   \n",
      "\n",
      "               City                                            Address  \\\n",
      "0       Makati City  Third Floor, Century City Mall, Kalayaan Avenu...   \n",
      "1       Makati City  Little Tokyo, 2277 Chino Roces Avenue, Legaspi...   \n",
      "2  Mandaluyong City  Edsa Shangri-La, 1 Garden Way, Ortigas, Mandal...   \n",
      "3  Mandaluyong City  Third Floor, Mega Fashion Hall, SM Megamall, O...   \n",
      "4  Mandaluyong City  Third Floor, Mega Atrium, SM Megamall, Ortigas...   \n",
      "5  Mandaluyong City  Ground Floor, Mega Fashion Hall, SM Megamall, ...   \n",
      "6        Pasay City  Building K, SM By The Bay, Sunset Boulevard, M...   \n",
      "7        Pasay City  Building B, By The Bay, Seaside Boulevard, Mal...   \n",
      "8        Pasay City  Plaza Level, Sofitel Philippine Plaza Manila, ...   \n",
      "9        Pasig City  Brixton Technology Center, 10 Brixton Street, ...   \n",
      "\n",
      "                                          Locality  \\\n",
      "0        Century City Mall, Poblacion, Makati City   \n",
      "1       Little Tokyo, Legaspi Village, Makati City   \n",
      "2       Edsa Shangri-La, Ortigas, Mandaluyong City   \n",
      "3           SM Megamall, Ortigas, Mandaluyong City   \n",
      "4           SM Megamall, Ortigas, Mandaluyong City   \n",
      "5           SM Megamall, Ortigas, Mandaluyong City   \n",
      "6  SM by the Bay, Mall of Asia Complex, Pasay City   \n",
      "7  SM by the Bay, Mall of Asia Complex, Pasay City   \n",
      "8      Sofitel Philippine Plaza Manila, Pasay City   \n",
      "9                                        Kapitolyo   \n",
      "\n",
      "                                    Locality Verbose   Longitude   Latitude  \\\n",
      "0  Century City Mall, Poblacion, Makati City, Mak...  121.027535  14.565443   \n",
      "1  Little Tokyo, Legaspi Village, Makati City, Ma...  121.014101  14.553708   \n",
      "2  Edsa Shangri-La, Ortigas, Mandaluyong City, Ma...  121.056831  14.581404   \n",
      "3  SM Megamall, Ortigas, Mandaluyong City, Mandal...  121.056475  14.585318   \n",
      "4  SM Megamall, Ortigas, Mandaluyong City, Mandal...  121.057508  14.584450   \n",
      "5  SM Megamall, Ortigas, Mandaluyong City, Mandal...  121.056314  14.583764   \n",
      "6  SM by the Bay, Mall of Asia Complex, Pasay Cit...  120.979667  14.531333   \n",
      "7  SM by the Bay, Mall of Asia Complex, Pasay Cit...  120.979333  14.540000   \n",
      "8  Sofitel Philippine Plaza Manila, Pasay City, P...  120.980090  14.552990   \n",
      "9                              Kapitolyo, Pasig City  121.056532  14.572041   \n",
      "\n",
      "                             Cuisines  ...          Currency  \\\n",
      "0          French, Japanese, Desserts  ...  Botswana Pula(P)   \n",
      "1                            Japanese  ...  Botswana Pula(P)   \n",
      "2    Seafood, Asian, Filipino, Indian  ...  Botswana Pula(P)   \n",
      "3                     Japanese, Sushi  ...  Botswana Pula(P)   \n",
      "4                    Japanese, Korean  ...  Botswana Pula(P)   \n",
      "5                             Chinese  ...  Botswana Pula(P)   \n",
      "6                     Asian, European  ...  Botswana Pula(P)   \n",
      "7  Seafood, Filipino, Asian, European  ...  Botswana Pula(P)   \n",
      "8             European, Asian, Indian  ...  Botswana Pula(P)   \n",
      "9                            Filipino  ...  Botswana Pula(P)   \n",
      "\n",
      "  Has Table booking Has Online delivery Is delivering now  \\\n",
      "0               Yes                  No                No   \n",
      "1               Yes                  No                No   \n",
      "2               Yes                  No                No   \n",
      "3                No                  No                No   \n",
      "4               Yes                  No                No   \n",
      "5                No                  No                No   \n",
      "6               Yes                  No                No   \n",
      "7               Yes                  No                No   \n",
      "8               Yes                  No                No   \n",
      "9               Yes                  No                No   \n",
      "\n",
      "  Switch to order menu Price range  Aggregate rating  Rating color  \\\n",
      "0                   No           3               4.8    Dark Green   \n",
      "1                   No           3               4.5    Dark Green   \n",
      "2                   No           4               4.4         Green   \n",
      "3                   No           4               4.9    Dark Green   \n",
      "4                   No           4               4.8    Dark Green   \n",
      "5                   No           3               4.4         Green   \n",
      "6                   No           4               4.0         Green   \n",
      "7                   No           4               4.2         Green   \n",
      "8                   No           4               4.9    Dark Green   \n",
      "9                   No           3               4.8    Dark Green   \n",
      "\n",
      "  Rating text Votes  \n",
      "0   Excellent   314  \n",
      "1   Excellent   591  \n",
      "2   Very Good   270  \n",
      "3   Excellent   365  \n",
      "4   Excellent   229  \n",
      "5   Very Good   336  \n",
      "6   Very Good   520  \n",
      "7   Very Good   677  \n",
      "8   Excellent   621  \n",
      "9   Excellent   532  \n",
      "\n",
      "[10 rows x 21 columns]\n"
     ]
    }
   ],
   "source": [
    "# the top 5 rows of sales data\n",
    "print(df_data.head(10))"
   ]
  },
  {
   "cell_type": "code",
   "execution_count": 7,
   "metadata": {},
   "outputs": [
    {
     "name": "stdout",
     "output_type": "stream",
     "text": [
      "       Restaurant ID  Country Code    Longitude     Latitude  \\\n",
      "count   9.551000e+03   9551.000000  9551.000000  9551.000000   \n",
      "mean    9.051128e+06     18.365616    64.126574    25.854381   \n",
      "std     8.791521e+06     56.750546    41.467058    11.007935   \n",
      "min     5.300000e+01      1.000000  -157.948486   -41.330428   \n",
      "25%     3.019625e+05      1.000000    77.081343    28.478713   \n",
      "50%     6.004089e+06      1.000000    77.191964    28.570469   \n",
      "75%     1.835229e+07      1.000000    77.282006    28.642758   \n",
      "max     1.850065e+07    216.000000   174.832089    55.976980   \n",
      "\n",
      "       Average Cost for two  Price range  Aggregate rating         Votes  \n",
      "count           9551.000000  9551.000000       9551.000000   9551.000000  \n",
      "mean            1199.210763     1.804837          2.666370    156.909748  \n",
      "std            16121.183073     0.905609          1.516378    430.169145  \n",
      "min                0.000000     1.000000          0.000000      0.000000  \n",
      "25%              250.000000     1.000000          2.500000      5.000000  \n",
      "50%              400.000000     2.000000          3.200000     31.000000  \n",
      "75%              700.000000     2.000000          3.700000    131.000000  \n",
      "max           800000.000000     4.000000          4.900000  10934.000000  \n"
     ]
    }
   ],
   "source": [
    "# describe return description of the data in the DataFrame\n",
    "print(df_data.describe())"
   ]
  },
  {
   "cell_type": "code",
   "execution_count": 8,
   "metadata": {},
   "outputs": [
    {
     "name": "stdout",
     "output_type": "stream",
     "text": [
      "0\n"
     ]
    }
   ],
   "source": [
    "# Check Duplicates\n",
    "print(df_data.duplicated().sum())"
   ]
  },
  {
   "cell_type": "code",
   "execution_count": 9,
   "metadata": {},
   "outputs": [
    {
     "name": "stdout",
     "output_type": "stream",
     "text": [
      "Index(['Restaurant ID', 'Restaurant Name', 'Country Code', 'City', 'Address',\n",
      "       'Locality', 'Locality Verbose', 'Longitude', 'Latitude', 'Cuisines',\n",
      "       'Average Cost for two', 'Currency', 'Has Table booking',\n",
      "       'Has Online delivery', 'Is delivering now', 'Switch to order menu',\n",
      "       'Price range', 'Aggregate rating', 'Rating color', 'Rating text',\n",
      "       'Votes'],\n",
      "      dtype='object')\n"
     ]
    }
   ],
   "source": [
    "# Columns Names\n",
    "print(df_data.columns)"
   ]
  },
  {
   "cell_type": "code",
   "execution_count": 10,
   "metadata": {},
   "outputs": [
    {
     "name": "stdout",
     "output_type": "stream",
     "text": [
      "Restaurant ID             int64\n",
      "Restaurant Name          object\n",
      "Country Code              int64\n",
      "City                     object\n",
      "Address                  object\n",
      "Locality                 object\n",
      "Locality Verbose         object\n",
      "Longitude               float64\n",
      "Latitude                float64\n",
      "Cuisines                 object\n",
      "Average Cost for two      int64\n",
      "Currency                 object\n",
      "Has Table booking        object\n",
      "Has Online delivery      object\n",
      "Is delivering now        object\n",
      "Switch to order menu     object\n",
      "Price range               int64\n",
      "Aggregate rating        float64\n",
      "Rating color             object\n",
      "Rating text              object\n",
      "Votes                     int64\n",
      "dtype: object\n",
      "(9551, 21)\n"
     ]
    }
   ],
   "source": [
    "#check the datatype\n",
    "print(df_data.dtypes)\n",
    "\n",
    "print(df_data.shape)"
   ]
  },
  {
   "cell_type": "code",
   "execution_count": 11,
   "metadata": {},
   "outputs": [
    {
     "name": "stdout",
     "output_type": "stream",
     "text": [
      "   Country Code    Country\n",
      "0             1      India\n",
      "1            14  Australia\n",
      "2            30     Brazil\n",
      "3            37     Canada\n",
      "4            94  Indonesia\n",
      "<bound method DataFrame.info of     Country Code         Country\n",
      "0              1           India\n",
      "1             14       Australia\n",
      "2             30          Brazil\n",
      "3             37          Canada\n",
      "4             94       Indonesia\n",
      "5            148     New Zealand\n",
      "6            162     Phillipines\n",
      "7            166           Qatar\n",
      "8            184       Singapore\n",
      "9            189    South Africa\n",
      "10           191       Sri Lanka\n",
      "11           208          Turkey\n",
      "12           214             UAE\n",
      "13           215  United Kingdom\n",
      "14           216   United States>\n",
      "(15, 2)\n"
     ]
    }
   ],
   "source": [
    "# now clean the Country Code Data\n",
    "\n",
    "# view data of country code\n",
    "print(df_country.head())\n",
    "\n",
    "print(df_country.info)\n",
    "\n",
    "print(df_country.shape)"
   ]
  },
  {
   "cell_type": "code",
   "execution_count": 12,
   "metadata": {},
   "outputs": [
    {
     "name": "stdout",
     "output_type": "stream",
     "text": [
      "Country Code    0\n",
      "Country         0\n",
      "dtype: int64\n"
     ]
    }
   ],
   "source": [
    "#checking null values\n",
    "print(df_country.isnull().sum())"
   ]
  },
  {
   "cell_type": "code",
   "execution_count": 13,
   "metadata": {},
   "outputs": [
    {
     "data": {
      "text/plain": [
       "0"
      ]
     },
     "execution_count": 13,
     "metadata": {},
     "output_type": "execute_result"
    }
   ],
   "source": [
    "# checking Duplicates\n",
    "df_country.duplicated().sum()"
   ]
  },
  {
   "cell_type": "code",
   "execution_count": 14,
   "metadata": {},
   "outputs": [
    {
     "name": "stdout",
     "output_type": "stream",
     "text": [
      "   Restaurant ID         Restaurant Name  Country Code              City  \\\n",
      "0        6317637        Le Petit Souffle           162       Makati City   \n",
      "1        6304287        Izakaya Kikufuji           162       Makati City   \n",
      "2        6300002  Heat - Edsa Shangri-La           162  Mandaluyong City   \n",
      "3        6318506                    Ooma           162  Mandaluyong City   \n",
      "4        6314302             Sambo Kojin           162  Mandaluyong City   \n",
      "\n",
      "                                             Address  \\\n",
      "0  Third Floor, Century City Mall, Kalayaan Avenu...   \n",
      "1  Little Tokyo, 2277 Chino Roces Avenue, Legaspi...   \n",
      "2  Edsa Shangri-La, 1 Garden Way, Ortigas, Mandal...   \n",
      "3  Third Floor, Mega Fashion Hall, SM Megamall, O...   \n",
      "4  Third Floor, Mega Atrium, SM Megamall, Ortigas...   \n",
      "\n",
      "                                     Locality  \\\n",
      "0   Century City Mall, Poblacion, Makati City   \n",
      "1  Little Tokyo, Legaspi Village, Makati City   \n",
      "2  Edsa Shangri-La, Ortigas, Mandaluyong City   \n",
      "3      SM Megamall, Ortigas, Mandaluyong City   \n",
      "4      SM Megamall, Ortigas, Mandaluyong City   \n",
      "\n",
      "                                    Locality Verbose   Longitude   Latitude  \\\n",
      "0  Century City Mall, Poblacion, Makati City, Mak...  121.027535  14.565443   \n",
      "1  Little Tokyo, Legaspi Village, Makati City, Ma...  121.014101  14.553708   \n",
      "2  Edsa Shangri-La, Ortigas, Mandaluyong City, Ma...  121.056831  14.581404   \n",
      "3  SM Megamall, Ortigas, Mandaluyong City, Mandal...  121.056475  14.585318   \n",
      "4  SM Megamall, Ortigas, Mandaluyong City, Mandal...  121.057508  14.584450   \n",
      "\n",
      "                           Cuisines  ...  Has Table booking  \\\n",
      "0        French, Japanese, Desserts  ...                Yes   \n",
      "1                          Japanese  ...                Yes   \n",
      "2  Seafood, Asian, Filipino, Indian  ...                Yes   \n",
      "3                   Japanese, Sushi  ...                 No   \n",
      "4                  Japanese, Korean  ...                Yes   \n",
      "\n",
      "  Has Online delivery Is delivering now Switch to order menu Price range  \\\n",
      "0                  No                No                   No           3   \n",
      "1                  No                No                   No           3   \n",
      "2                  No                No                   No           4   \n",
      "3                  No                No                   No           4   \n",
      "4                  No                No                   No           4   \n",
      "\n",
      "  Aggregate rating  Rating color  Rating text Votes      Country  \n",
      "0              4.8    Dark Green    Excellent   314  Phillipines  \n",
      "1              4.5    Dark Green    Excellent   591  Phillipines  \n",
      "2              4.4         Green    Very Good   270  Phillipines  \n",
      "3              4.9    Dark Green    Excellent   365  Phillipines  \n",
      "4              4.8    Dark Green    Excellent   229  Phillipines  \n",
      "\n",
      "[5 rows x 22 columns]\n"
     ]
    }
   ],
   "source": [
    "# Merging country code and Data file)\n",
    "df=pd.merge(df_data,df_country,on='Country Code', how= 'left')\n",
    "print(df.head())"
   ]
  },
  {
   "cell_type": "code",
   "execution_count": 15,
   "metadata": {},
   "outputs": [
    {
     "name": "stdout",
     "output_type": "stream",
     "text": [
      "Index(['Restaurant Name', 'City', 'Address', 'Locality', 'Cuisines',\n",
      "       'Average Cost for two', 'Currency', 'Has Table booking',\n",
      "       'Has Online delivery', 'Is delivering now', 'Switch to order menu',\n",
      "       'Price range', 'Aggregate rating', 'Rating color', 'Rating text',\n",
      "       'Votes', 'Country'],\n",
      "      dtype='object')\n"
     ]
    }
   ],
   "source": [
    "#droping unwanted columns\n",
    "df.drop(['Restaurant ID','Locality Verbose','Country Code','Longitude','Latitude'],axis=1,inplace=True)\n",
    "print(df.columns)"
   ]
  },
  {
   "cell_type": "code",
   "execution_count": 16,
   "metadata": {},
   "outputs": [
    {
     "data": {
      "text/plain": [
       "Restaurant Name         0\n",
       "City                    0\n",
       "Address                 0\n",
       "Locality                0\n",
       "Cuisines                9\n",
       "Average Cost for two    0\n",
       "Currency                0\n",
       "Has Table booking       0\n",
       "Has Online delivery     0\n",
       "Is delivering now       0\n",
       "Switch to order menu    0\n",
       "Price range             0\n",
       "Aggregate rating        0\n",
       "Rating color            0\n",
       "Rating text             0\n",
       "Votes                   0\n",
       "Country                 0\n",
       "dtype: int64"
      ]
     },
     "execution_count": 16,
     "metadata": {},
     "output_type": "execute_result"
    }
   ],
   "source": [
    "# checking the null values after merging\n",
    "df.isnull().sum()"
   ]
  },
  {
   "cell_type": "code",
   "execution_count": 17,
   "metadata": {},
   "outputs": [
    {
     "name": "stdout",
     "output_type": "stream",
     "text": [
      "Restaurant Name         0\n",
      "City                    0\n",
      "Address                 0\n",
      "Locality                0\n",
      "Cuisines                0\n",
      "Average Cost for two    0\n",
      "Currency                0\n",
      "Has Table booking       0\n",
      "Has Online delivery     0\n",
      "Is delivering now       0\n",
      "Switch to order menu    0\n",
      "Price range             0\n",
      "Aggregate rating        0\n",
      "Rating color            0\n",
      "Rating text             0\n",
      "Votes                   0\n",
      "Country                 0\n",
      "dtype: int64\n"
     ]
    }
   ],
   "source": [
    "# remove null values\n",
    "df=df.dropna()\n",
    "print(df.isnull().sum())"
   ]
  },
  {
   "cell_type": "code",
   "execution_count": 18,
   "metadata": {},
   "outputs": [
    {
     "name": "stdout",
     "output_type": "stream",
     "text": [
      "India             8652\n",
      "United States      425\n",
      "United Kingdom      80\n",
      "UAE                 60\n",
      "Brazil              60\n",
      "South Africa        60\n",
      "New Zealand         40\n",
      "Turkey              34\n",
      "Australia           24\n",
      "Phillipines         22\n",
      "Indonesia           21\n",
      "Singapore           20\n",
      "Qatar               20\n",
      "Sri Lanka           20\n",
      "Canada               4\n",
      "Name: Country, dtype: int64\n"
     ]
    }
   ],
   "source": [
    "# count total transcation happen in all the world\n",
    "print(df.Country.value_counts())"
   ]
  },
  {
   "cell_type": "code",
   "execution_count": 19,
   "metadata": {},
   "outputs": [
    {
     "name": "stdout",
     "output_type": "stream",
     "text": [
      "<bound method DataFrame.to_string of                Restaurant Name              City  \\\n",
      "0             Le Petit Souffle       Makati City   \n",
      "1             Izakaya Kikufuji       Makati City   \n",
      "2       Heat - Edsa Shangri-La  Mandaluyong City   \n",
      "3                         Ooma  Mandaluyong City   \n",
      "4                  Sambo Kojin  Mandaluyong City   \n",
      "...                        ...               ...   \n",
      "9546              NamlÛ± Gurme         ÛÁstanbul   \n",
      "9547             Ceviz AÛôacÛ±         ÛÁstanbul   \n",
      "9548                     Huqqa         ÛÁstanbul   \n",
      "9549              Aôôk Kahve         ÛÁstanbul   \n",
      "9550  Walter's Coffee Roastery         ÛÁstanbul   \n",
      "\n",
      "                                                Address  \\\n",
      "0     Third Floor, Century City Mall, Kalayaan Avenu...   \n",
      "1     Little Tokyo, 2277 Chino Roces Avenue, Legaspi...   \n",
      "2     Edsa Shangri-La, 1 Garden Way, Ortigas, Mandal...   \n",
      "3     Third Floor, Mega Fashion Hall, SM Megamall, O...   \n",
      "4     Third Floor, Mega Atrium, SM Megamall, Ortigas...   \n",
      "...                                                 ...   \n",
      "9546  Kemankeô Karamustafa Paôa Mahallesi, RÛ±htÛ±...   \n",
      "9547  Koôuyolu Mahallesi, Muhittin íìstí_ndaÛô Cadd...   \n",
      "9548  Kuruí_eôme Mahallesi, Muallim Naci Caddesi, N...   \n",
      "9549  Kuruí_eôme Mahallesi, Muallim Naci Caddesi, N...   \n",
      "9550  CafeaÛôa Mahallesi, BademaltÛ± Sokak, No 21/B,...   \n",
      "\n",
      "                                        Locality  \\\n",
      "0      Century City Mall, Poblacion, Makati City   \n",
      "1     Little Tokyo, Legaspi Village, Makati City   \n",
      "2     Edsa Shangri-La, Ortigas, Mandaluyong City   \n",
      "3         SM Megamall, Ortigas, Mandaluyong City   \n",
      "4         SM Megamall, Ortigas, Mandaluyong City   \n",
      "...                                          ...   \n",
      "9546                                    Karakí_y   \n",
      "9547                                   Koôuyolu   \n",
      "9548                                 Kuruí_eôme   \n",
      "9549                                 Kuruí_eôme   \n",
      "9550                                        Moda   \n",
      "\n",
      "                              Cuisines  Average Cost for two  \\\n",
      "0           French, Japanese, Desserts                  1100   \n",
      "1                             Japanese                  1200   \n",
      "2     Seafood, Asian, Filipino, Indian                  4000   \n",
      "3                      Japanese, Sushi                  1500   \n",
      "4                     Japanese, Korean                  1500   \n",
      "...                                ...                   ...   \n",
      "9546                           Turkish                    80   \n",
      "9547   World Cuisine, Patisserie, Cafe                   105   \n",
      "9548            Italian, World Cuisine                   170   \n",
      "9549                   Restaurant Cafe                   120   \n",
      "9550                              Cafe                    55   \n",
      "\n",
      "              Currency Has Table booking Has Online delivery  \\\n",
      "0     Botswana Pula(P)               Yes                  No   \n",
      "1     Botswana Pula(P)               Yes                  No   \n",
      "2     Botswana Pula(P)               Yes                  No   \n",
      "3     Botswana Pula(P)                No                  No   \n",
      "4     Botswana Pula(P)               Yes                  No   \n",
      "...                ...               ...                 ...   \n",
      "9546  Turkish Lira(TL)                No                  No   \n",
      "9547  Turkish Lira(TL)                No                  No   \n",
      "9548  Turkish Lira(TL)                No                  No   \n",
      "9549  Turkish Lira(TL)                No                  No   \n",
      "9550  Turkish Lira(TL)                No                  No   \n",
      "\n",
      "     Is delivering now Switch to order menu  Price range  Aggregate rating  \\\n",
      "0                   No                   No            3               4.8   \n",
      "1                   No                   No            3               4.5   \n",
      "2                   No                   No            4               4.4   \n",
      "3                   No                   No            4               4.9   \n",
      "4                   No                   No            4               4.8   \n",
      "...                ...                  ...          ...               ...   \n",
      "9546                No                   No            3               4.1   \n",
      "9547                No                   No            3               4.2   \n",
      "9548                No                   No            4               3.7   \n",
      "9549                No                   No            4               4.0   \n",
      "9550                No                   No            2               4.0   \n",
      "\n",
      "     Rating color Rating text  Votes      Country  \n",
      "0      Dark Green   Excellent    314  Phillipines  \n",
      "1      Dark Green   Excellent    591  Phillipines  \n",
      "2           Green   Very Good    270  Phillipines  \n",
      "3      Dark Green   Excellent    365  Phillipines  \n",
      "4      Dark Green   Excellent    229  Phillipines  \n",
      "...           ...         ...    ...          ...  \n",
      "9546        Green   Very Good    788       Turkey  \n",
      "9547        Green   Very Good   1034       Turkey  \n",
      "9548       Yellow        Good    661       Turkey  \n",
      "9549        Green   Very Good    901       Turkey  \n",
      "9550        Green   Very Good    591       Turkey  \n",
      "\n",
      "[9542 rows x 17 columns]>\n"
     ]
    }
   ],
   "source": [
    "#downlaod data\n",
    "#df.to_csv(r\"C:\\Users\\SAI CHARAN\\OneDrive\\Desktop\\Zomato analysis dashboard\\zomato.csv\")\n",
    "print(df.to_string)"
   ]
  },
  {
   "cell_type": "code",
   "execution_count": null,
   "metadata": {},
   "outputs": [],
   "source": []
  }
 ],
 "metadata": {
  "kernelspec": {
   "display_name": "Python 3",
   "language": "python",
   "name": "python3"
  },
  "language_info": {
   "codemirror_mode": {
    "name": "ipython",
    "version": 3
   },
   "file_extension": ".py",
   "mimetype": "text/x-python",
   "name": "python",
   "nbconvert_exporter": "python",
   "pygments_lexer": "ipython3",
   "version": "3.8.5"
  }
 },
 "nbformat": 4,
 "nbformat_minor": 4
}
